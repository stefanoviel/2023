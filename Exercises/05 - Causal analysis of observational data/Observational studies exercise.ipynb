{
 "cells": [
  {
   "cell_type": "markdown",
   "metadata": {},
   "source": [
    "### Welcome to the exercise about observational studies! This exercise will be hands on, and you will be able to practise the skills you developed so far!"
   ]
  },
  {
   "cell_type": "markdown",
   "metadata": {},
   "source": [
    "## Propensity score matching\n",
    "\n",
    "In this exercise, you will apply [propensity score matching](http://www.stewartschultz.com/statistics/books/Design%20of%20observational%20studies.pdf), which we discussed in lecture 6 (\"Observational studies\"), in order to draw conclusions from an observational study.\n",
    "\n",
    "We will work with a by-now classic dataset from Robert LaLonde's study \"[Evaluating the Econometric Evaluations of Training Programs](http://people.hbs.edu/nashraf/LaLonde_1986.pdf)\" (1986).\n",
    "The study investigated the effect of a job training program (\"National Supported Work Demonstration\") on the real earnings of an individual, a couple of years after completion of the program.\n",
    "Your task is to determine the effectiveness of the \"treatment\" represented by the job training program."
   ]
  },
  {
   "cell_type": "markdown",
   "metadata": {},
   "source": [
    "#### Dataset description\n",
    "\n",
    "- `treat`: 1 if the subject participated in the job training program, 0 otherwise\n",
    "- `age`: the subject's age\n",
    "- `educ`: years of education\n",
    "- `race`: categorical variable with three possible values: Black, Hispanic, or White\n",
    "- `married`: 1 if the subject was married at the time of the training program, 0 otherwise\n",
    "- `nodegree`: 1 if the subject has earned no school degree, 0 otherwise\n",
    "- `re74`: real earnings in 1974 (pre-treatment)\n",
    "- `re75`: real earnings in 1975 (pre-treatment)\n",
    "- `re78`: real earnings in 1978 (outcome)"
   ]
  },
  {
   "cell_type": "markdown",
   "metadata": {},
   "source": [
    "If you want to deepen your knowledge on propensity scores and observational studies, we highly recommend Rosenbaum's excellent book on the [\"Design of Observational Studies\"](http://www.stewartschultz.com/statistics/books/Design%20of%20observational%20studies.pdf). Even just reading the first chapter (18 pages) will help you a lot."
   ]
  },
  {
   "cell_type": "code",
   "execution_count": 1,
   "metadata": {
    "tags": []
   },
   "outputs": [],
   "source": [
    "import pandas as pd\n",
    "import pandas as pd\n",
    "import numpy as np\n",
    "import matplotlib.pyplot as plt\n",
    "import seaborn as sns\n",
    "import networkx as nx\n",
    "%matplotlib inline\n",
    "\n",
    "data_folder = './data/'\n",
    "df = pd.read_csv(data_folder + 'lalonde.csv')"
   ]
  },
  {
   "cell_type": "code",
   "execution_count": 2,
   "metadata": {},
   "outputs": [
    {
     "data": {
      "text/html": [
       "<div>\n",
       "<style scoped>\n",
       "    .dataframe tbody tr th:only-of-type {\n",
       "        vertical-align: middle;\n",
       "    }\n",
       "\n",
       "    .dataframe tbody tr th {\n",
       "        vertical-align: top;\n",
       "    }\n",
       "\n",
       "    .dataframe thead th {\n",
       "        text-align: right;\n",
       "    }\n",
       "</style>\n",
       "<table border=\"1\" class=\"dataframe\">\n",
       "  <thead>\n",
       "    <tr style=\"text-align: right;\">\n",
       "      <th></th>\n",
       "      <th>id</th>\n",
       "      <th>treat</th>\n",
       "      <th>age</th>\n",
       "      <th>educ</th>\n",
       "      <th>black</th>\n",
       "      <th>hispan</th>\n",
       "      <th>married</th>\n",
       "      <th>nodegree</th>\n",
       "      <th>re74</th>\n",
       "      <th>re75</th>\n",
       "      <th>re78</th>\n",
       "    </tr>\n",
       "  </thead>\n",
       "  <tbody>\n",
       "    <tr>\n",
       "      <th>335</th>\n",
       "      <td>PSID151</td>\n",
       "      <td>0</td>\n",
       "      <td>19</td>\n",
       "      <td>12</td>\n",
       "      <td>0</td>\n",
       "      <td>0</td>\n",
       "      <td>0</td>\n",
       "      <td>0</td>\n",
       "      <td>336.9939</td>\n",
       "      <td>2518.9840</td>\n",
       "      <td>7118.209</td>\n",
       "    </tr>\n",
       "    <tr>\n",
       "      <th>541</th>\n",
       "      <td>PSID357</td>\n",
       "      <td>0</td>\n",
       "      <td>18</td>\n",
       "      <td>11</td>\n",
       "      <td>0</td>\n",
       "      <td>0</td>\n",
       "      <td>0</td>\n",
       "      <td>1</td>\n",
       "      <td>321.3198</td>\n",
       "      <td>0.0000</td>\n",
       "      <td>7722.599</td>\n",
       "    </tr>\n",
       "    <tr>\n",
       "      <th>613</th>\n",
       "      <td>PSID429</td>\n",
       "      <td>0</td>\n",
       "      <td>16</td>\n",
       "      <td>9</td>\n",
       "      <td>0</td>\n",
       "      <td>0</td>\n",
       "      <td>0</td>\n",
       "      <td>1</td>\n",
       "      <td>0.0000</td>\n",
       "      <td>0.0000</td>\n",
       "      <td>1495.459</td>\n",
       "    </tr>\n",
       "    <tr>\n",
       "      <th>16</th>\n",
       "      <td>NSW17</td>\n",
       "      <td>1</td>\n",
       "      <td>27</td>\n",
       "      <td>13</td>\n",
       "      <td>1</td>\n",
       "      <td>0</td>\n",
       "      <td>0</td>\n",
       "      <td>0</td>\n",
       "      <td>0.0000</td>\n",
       "      <td>0.0000</td>\n",
       "      <td>14581.860</td>\n",
       "    </tr>\n",
       "    <tr>\n",
       "      <th>334</th>\n",
       "      <td>PSID150</td>\n",
       "      <td>0</td>\n",
       "      <td>22</td>\n",
       "      <td>11</td>\n",
       "      <td>0</td>\n",
       "      <td>1</td>\n",
       "      <td>0</td>\n",
       "      <td>1</td>\n",
       "      <td>7341.3730</td>\n",
       "      <td>2535.0970</td>\n",
       "      <td>14187.650</td>\n",
       "    </tr>\n",
       "    <tr>\n",
       "      <th>201</th>\n",
       "      <td>PSID17</td>\n",
       "      <td>0</td>\n",
       "      <td>25</td>\n",
       "      <td>9</td>\n",
       "      <td>0</td>\n",
       "      <td>1</td>\n",
       "      <td>0</td>\n",
       "      <td>1</td>\n",
       "      <td>5460.4770</td>\n",
       "      <td>10589.7600</td>\n",
       "      <td>7539.361</td>\n",
       "    </tr>\n",
       "    <tr>\n",
       "      <th>273</th>\n",
       "      <td>PSID89</td>\n",
       "      <td>0</td>\n",
       "      <td>16</td>\n",
       "      <td>9</td>\n",
       "      <td>0</td>\n",
       "      <td>0</td>\n",
       "      <td>0</td>\n",
       "      <td>1</td>\n",
       "      <td>2539.2100</td>\n",
       "      <td>4579.6450</td>\n",
       "      <td>0.000</td>\n",
       "    </tr>\n",
       "    <tr>\n",
       "      <th>3</th>\n",
       "      <td>NSW4</td>\n",
       "      <td>1</td>\n",
       "      <td>27</td>\n",
       "      <td>11</td>\n",
       "      <td>1</td>\n",
       "      <td>0</td>\n",
       "      <td>0</td>\n",
       "      <td>1</td>\n",
       "      <td>0.0000</td>\n",
       "      <td>0.0000</td>\n",
       "      <td>7506.146</td>\n",
       "    </tr>\n",
       "    <tr>\n",
       "      <th>419</th>\n",
       "      <td>PSID235</td>\n",
       "      <td>0</td>\n",
       "      <td>24</td>\n",
       "      <td>8</td>\n",
       "      <td>0</td>\n",
       "      <td>0</td>\n",
       "      <td>1</td>\n",
       "      <td>1</td>\n",
       "      <td>213.5601</td>\n",
       "      <td>760.8871</td>\n",
       "      <td>2340.719</td>\n",
       "    </tr>\n",
       "    <tr>\n",
       "      <th>319</th>\n",
       "      <td>PSID135</td>\n",
       "      <td>0</td>\n",
       "      <td>20</td>\n",
       "      <td>10</td>\n",
       "      <td>0</td>\n",
       "      <td>0</td>\n",
       "      <td>1</td>\n",
       "      <td>1</td>\n",
       "      <td>3099.5600</td>\n",
       "      <td>2970.1450</td>\n",
       "      <td>21141.830</td>\n",
       "    </tr>\n",
       "  </tbody>\n",
       "</table>\n",
       "</div>"
      ],
      "text/plain": [
       "          id  treat  age  educ  black  hispan  married  nodegree       re74  \\\n",
       "335  PSID151      0   19    12      0       0        0         0   336.9939   \n",
       "541  PSID357      0   18    11      0       0        0         1   321.3198   \n",
       "613  PSID429      0   16     9      0       0        0         1     0.0000   \n",
       "16     NSW17      1   27    13      1       0        0         0     0.0000   \n",
       "334  PSID150      0   22    11      0       1        0         1  7341.3730   \n",
       "201   PSID17      0   25     9      0       1        0         1  5460.4770   \n",
       "273   PSID89      0   16     9      0       0        0         1  2539.2100   \n",
       "3       NSW4      1   27    11      1       0        0         1     0.0000   \n",
       "419  PSID235      0   24     8      0       0        1         1   213.5601   \n",
       "319  PSID135      0   20    10      0       0        1         1  3099.5600   \n",
       "\n",
       "           re75       re78  \n",
       "335   2518.9840   7118.209  \n",
       "541      0.0000   7722.599  \n",
       "613      0.0000   1495.459  \n",
       "16       0.0000  14581.860  \n",
       "334   2535.0970  14187.650  \n",
       "201  10589.7600   7539.361  \n",
       "273   4579.6450      0.000  \n",
       "3        0.0000   7506.146  \n",
       "419    760.8871   2340.719  \n",
       "319   2970.1450  21141.830  "
      ]
     },
     "execution_count": 2,
     "metadata": {},
     "output_type": "execute_result"
    }
   ],
   "source": [
    "df.sample(10)"
   ]
  },
  {
   "cell_type": "markdown",
   "metadata": {},
   "source": [
    "## 1. A naive analysis\n",
    "\n",
    "Compare the distribution of the outcome variable (`re78`) between the two groups, using plots and numbers.\n",
    "To summarize and compare the distributions, you may use the techniques we discussed in lecture 4 (\"Descibing data\") and 3 (\"Visualizing data\").\n",
    "\n",
    "What might a naive \"researcher\" conclude from this superficial analysis?"
   ]
  },
  {
   "cell_type": "code",
   "execution_count": 136,
   "metadata": {},
   "outputs": [
    {
     "data": {
      "image/png": "[encoded data removed]",
      "text/plain": [
       "<Figure size 432x288 with 1 Axes>"
      ]
     },
     "metadata": {
      "needs_background": "light"
     },
     "output_type": "display_data"
    },
    {
     "data": {
      "image/png": "[encoded data removed]",
      "text/plain": [
       "<Figure size 432x288 with 1 Axes>"
      ]
     },
     "metadata": {
      "needs_background": "light"
     },
     "output_type": "display_data"
    }
   ],
   "source": [
    "''' your code and explanations '''\n",
    "treated = df[df.treat == 1]\n",
    "control = df[df.treat == 0]\n",
    "\n",
    "plt.hist(treated.re78, bins=20)\n",
    "plt.title('treated')\n",
    "plt.show()\n",
    "plt.hist(control.re78, bins=20)\n",
    "plt.title('control')\n",
    "plt.show()"
   ]
  },
  {
   "cell_type": "code",
   "execution_count": 4,
   "metadata": {},
   "outputs": [
    {
     "name": "stdout",
     "output_type": "stream",
     "text": [
      "Treated\n",
      "count      185.000000\n",
      "mean      6349.143530\n",
      "std       7867.402218\n",
      "min          0.000000\n",
      "25%        485.229800\n",
      "50%       4232.309000\n",
      "75%       9642.999000\n",
      "max      60307.930000\n",
      "Name: re78, dtype: float64\n",
      "\n",
      "\n",
      "Control\n",
      "count      429.000000\n",
      "mean      6984.169742\n",
      "std       7294.161791\n",
      "min          0.000000\n",
      "25%        220.181300\n",
      "50%       4975.505000\n",
      "75%      11688.820000\n",
      "max      25564.670000\n",
      "Name: re78, dtype: float64\n"
     ]
    }
   ],
   "source": [
    "print('Treated')\n",
    "print(treated.re78.describe())\n",
    "\n",
    "print('\\n\\nControl')\n",
    "print(control.re78.describe())"
   ]
  },
  {
   "cell_type": "markdown",
   "metadata": {},
   "source": [
    "A naive researcher might conclude that the treated group has a lower salary of the control one, thus the treatment lowers the salary instead of increasing it. But we haven't in any way checked that the individuals in the treated and control groups are similar. Moreover the difference in salary might be caused by the the difference in the characteristic of the people (e.g. salary in previous years, education ecc.)  more than the treatment itself. "
   ]
  },
  {
   "cell_type": "markdown",
   "metadata": {},
   "source": [
    "## 2. A closer look at the data\n",
    "\n",
    "You're not naive, of course (and even if you are, you've learned certain things in ADA), so you aren't content with a superficial analysis such as the above.\n",
    "You're aware of the dangers of observational studies, so you take a closer look at the data before jumping to conclusions.\n",
    "\n",
    "For each feature in the dataset, compare its distribution in the treated group with its distribution in the control group, using plots and numbers.\n",
    "As above, you may use the techniques we discussed in class for summarizing and comparing the distributions.\n",
    "\n",
    "What do you observe?\n",
    "Describe what your observations mean for the conclusions drawn by the naive \"researcher\" from his superficial analysis."
   ]
  },
  {
   "cell_type": "code",
   "execution_count": 5,
   "metadata": {},
   "outputs": [
    {
     "name": "stdout",
     "output_type": "stream",
     "text": [
      "control\n",
      "       treat         age        educ       black      hispan     married  \\\n",
      "count  429.0  429.000000  429.000000  429.000000  429.000000  429.000000   \n",
      "mean     0.0   28.030303   10.235431    0.202797    0.142191    0.512821   \n",
      "std      0.0   10.786653    2.855238    0.402552    0.349654    0.500419   \n",
      "min      0.0   16.000000    0.000000    0.000000    0.000000    0.000000   \n",
      "25%      0.0   19.000000    9.000000    0.000000    0.000000    0.000000   \n",
      "50%      0.0   25.000000   11.000000    0.000000    0.000000    1.000000   \n",
      "75%      0.0   35.000000   12.000000    0.000000    0.000000    1.000000   \n",
      "max      0.0   55.000000   18.000000    1.000000    1.000000    1.000000   \n",
      "\n",
      "         nodegree          re74          re75          re78  \n",
      "count  429.000000    429.000000    429.000000    429.000000  \n",
      "mean     0.596737   5619.236506   2466.484443   6984.169742  \n",
      "std      0.491126   6788.750796   3291.996183   7294.161791  \n",
      "min      0.000000      0.000000      0.000000      0.000000  \n",
      "25%      0.000000      0.000000      0.000000    220.181300  \n",
      "50%      1.000000   2547.047000   1086.726000   4975.505000  \n",
      "75%      1.000000   9277.128000   3881.419000  11688.820000  \n",
      "max      1.000000  25862.320000  18347.230000  25564.670000  \n",
      "\n",
      "\n",
      "treated\n",
      "       treat         age        educ       black      hispan     married  \\\n",
      "count  185.0  185.000000  185.000000  185.000000  185.000000  185.000000   \n",
      "mean     1.0   25.816216   10.345946    0.843243    0.059459    0.189189   \n",
      "std      0.0    7.155019    2.010650    0.364558    0.237124    0.392722   \n",
      "min      1.0   17.000000    4.000000    0.000000    0.000000    0.000000   \n",
      "25%      1.0   20.000000    9.000000    1.000000    0.000000    0.000000   \n",
      "50%      1.0   25.000000   11.000000    1.000000    0.000000    0.000000   \n",
      "75%      1.0   29.000000   12.000000    1.000000    0.000000    0.000000   \n",
      "max      1.0   48.000000   16.000000    1.000000    1.000000    1.000000   \n",
      "\n",
      "         nodegree          re74          re75          re78  \n",
      "count  185.000000    185.000000    185.000000    185.000000  \n",
      "mean     0.708108   2095.573689   1532.055314   6349.143530  \n",
      "std      0.455867   4886.620353   3219.250870   7867.402218  \n",
      "min      0.000000      0.000000      0.000000      0.000000  \n",
      "25%      0.000000      0.000000      0.000000    485.229800  \n",
      "50%      1.000000      0.000000      0.000000   4232.309000  \n",
      "75%      1.000000   1291.468000   1817.284000   9642.999000  \n",
      "max      1.000000  35040.070000  25142.240000  60307.930000  \n"
     ]
    }
   ],
   "source": [
    "print('control')\n",
    "print(control.describe())\n",
    "\n",
    "print('\\n\\ntreated')\n",
    "print(treated.describe())"
   ]
  },
  {
   "cell_type": "code",
   "execution_count": 6,
   "metadata": {},
   "outputs": [
    {
     "data": {
      "text/plain": [
       "<AxesSubplot:xlabel='race', ylabel='value'>"
      ]
     },
     "execution_count": 6,
     "metadata": {},
     "output_type": "execute_result"
    },
    {
     "data": {
      "image/png": "[encoded data removed]",
      "text/plain": [
       "<Figure size 432x288 with 1 Axes>"
      ]
     },
     "metadata": {
      "needs_background": "light"
     },
     "output_type": "display_data"
    }
   ],
   "source": [
    "# i did the plot of salary over time but it went lost.. \n",
    "df['white'] = ((df['black'] == 0) & (df['hispan'] == 0)).astype(int)\n",
    "\n",
    "grouped = df.groupby('treat')[['white', 'black', 'hispan']].mean()\n",
    "grouped = grouped.reset_index().melt(id_vars='treat', value_vars=['white', 'black', 'hispan'], var_name='race')\n",
    "\n",
    "sns.barplot(data =grouped, x ='race', y='value', hue= 'treat')\n"
   ]
  },
  {
   "cell_type": "code",
   "execution_count": 88,
   "metadata": {},
   "outputs": [
    {
     "data": {
      "text/plain": [
       "<AxesSubplot:xlabel='treat', ylabel='value'>"
      ]
     },
     "execution_count": 88,
     "metadata": {},
     "output_type": "execute_result"
    },
    {
     "data": {
      "image/png": "[encoded data removed]",
      "text/plain": [
       "<Figure size 432x288 with 1 Axes>"
      ]
     },
     "metadata": {
      "needs_background": "light"
     },
     "output_type": "display_data"
    }
   ],
   "source": [
    "sns.boxplot(x='treat', y='value', data = df.melt(id_vars='treat', value_vars= 'age'))"
   ]
  },
  {
   "cell_type": "code",
   "execution_count": 100,
   "metadata": {},
   "outputs": [
    {
     "data": {
      "text/plain": [
       "<AxesSubplot:xlabel='treat', ylabel='value'>"
      ]
     },
     "execution_count": 100,
     "metadata": {},
     "output_type": "execute_result"
    },
    {
     "data": {
      "image/png": "[encoded data removed]",
      "text/plain": [
       "<Figure size 432x288 with 1 Axes>"
      ]
     },
     "metadata": {
      "needs_background": "light"
     },
     "output_type": "display_data"
    }
   ],
   "source": [
    "sns.barplot(x='treat', y='value', data = df.melt(id_vars='treat', value_vars= 'married'))"
   ]
  },
  {
   "cell_type": "code",
   "execution_count": 7,
   "metadata": {},
   "outputs": [
    {
     "data": {
      "text/plain": [
       "<AxesSubplot:xlabel='race', ylabel='value'>"
      ]
     },
     "execution_count": 7,
     "metadata": {},
     "output_type": "execute_result"
    },
    {
     "data": {
      "image/png": "[encoded data removed]",
      "text/plain": [
       "<Figure size 432x288 with 1 Axes>"
      ]
     },
     "metadata": {
      "needs_background": "light"
     },
     "output_type": "display_data"
    }
   ],
   "source": [
    "grouped = df.groupby('treat')[['re74', 're75', 're78']].mean()\n",
    "grouped = grouped.reset_index().melt(id_vars='treat', value_vars=['re74', 're75', 're78'], var_name='race')\n",
    "\n",
    "\n",
    "sns.barplot(data =grouped, x ='race', y='value', hue= 'treat')"
   ]
  },
  {
   "cell_type": "markdown",
   "metadata": {},
   "source": [
    "## 3. A propensity score model\n",
    "\n",
    "Use logistic regression to estimate propensity scores for all points in the dataset.\n",
    "You may use `statsmodels` to fit the logistic regression model and apply it to each data point to obtain propensity scores.\n",
    "\n",
    "Recall that the propensity score of a data point represents its probability of receiving the treatment, based on its pre-treatment features (in this case, age, education, pre-treatment income, etc.).\n",
    "To brush up on propensity scores, you may read chapter 3.3 of the above-cited book by Rosenbaum or [this article](https://www.ncbi.nlm.nih.gov/pmc/articles/PMC3144483/pdf/hmbr46-399.pdf).\n",
    "\n",
    "Note: you do not need a train/test split here. Train and apply the model on the entire dataset. If you're wondering why this is the right thing to do in this situation, recall that the propensity score model is not used in order to make predictions about unseen data. Its sole purpose is to balance the dataset across treatment groups.\n",
    "(See p. 74 of Rosenbaum's book for an explanation why slight overfitting is even good for propensity scores.\n",
    "If you want even more information, read [this article](https://www.ncbi.nlm.nih.gov/pmc/articles/PMC3144483/pdf/hmbr46-399.pdf).)"
   ]
  },
  {
   "cell_type": "code",
   "execution_count": 8,
   "metadata": {},
   "outputs": [
    {
     "name": "stdout",
     "output_type": "stream",
     "text": [
      "Optimization terminated successfully.\n",
      "         Current function value: 0.414061\n",
      "         Iterations 7\n",
      "                           Logit Regression Results                           \n",
      "==============================================================================\n",
      "Dep. Variable:                      y   No. Observations:                  614\n",
      "Model:                          Logit   Df Residuals:                      605\n",
      "Method:                           MLE   Df Model:                            8\n",
      "Date:                Tue, 31 Oct 2023   Pseudo R-squ.:                  0.3234\n",
      "Time:                        18:44:24   Log-Likelihood:                -254.23\n",
      "converged:                       True   LL-Null:                       -375.75\n",
      "Covariance Type:            nonrobust   LLR p-value:                 5.179e-48\n",
      "==============================================================================\n",
      "                 coef    std err          z      P>|z|      [0.025      0.975]\n",
      "------------------------------------------------------------------------------\n",
      "age           -0.0176      0.012     -1.497      0.134      -0.041       0.005\n",
      "educ          -0.1259      0.028     -4.455      0.000      -0.181      -0.071\n",
      "black          2.8345      0.266     10.654      0.000       2.313       3.356\n",
      "hispan         0.4531      0.399      1.136      0.256      -0.329       1.235\n",
      "married       -0.8518      0.284     -3.000      0.003      -1.408      -0.295\n",
      "nodegree      -0.4591      0.228     -2.010      0.044      -0.907      -0.011\n",
      "re74       -7.061e-05   2.86e-05     -2.471      0.013      -0.000   -1.46e-05\n",
      "re75        4.369e-05    4.5e-05      0.970      0.332   -4.46e-05       0.000\n",
      "re78        2.606e-05   1.69e-05      1.545      0.122      -7e-06    5.91e-05\n",
      "==============================================================================\n"
     ]
    }
   ],
   "source": [
    "''' your code and explanations '''\n",
    "\n",
    "import statsmodels.api as sm\n",
    "\n",
    "\n",
    "x = df.drop(['treat', 'id', 'white'], axis=1)\n",
    "\n",
    "logistic = sm.Logit(df['treat'].values, x).fit()\n",
    "print(logistic.summary())\n",
    "\n",
    "propensity_scores = logistic.predict(x)"
   ]
  },
  {
   "cell_type": "markdown",
   "metadata": {},
   "source": [
    "## 4. Balancing the dataset via matching\n",
    "\n",
    "Use the propensity scores to match each data point from the treated group with exactly one data point from the control group, while ensuring that each data point from the control group is matched with at most one data point from the treated group.\n",
    "(Hint: you may explore the `networkx` package in Python for predefined matching functions.)\n",
    "\n",
    "Your matching should maximize the similarity between matched subjects, as captured by their propensity scores.\n",
    "In other words, the sum (over all matched pairs) of absolute propensity-score differences between the two matched subjects should be minimized.\n",
    "\n",
    "This is how networkx library can help you do this. Each possible pair of (treated_person, control_person) is characterized by a similarity. This is how we can initialize a graph, and add an edge for one possible pair. We then need to add an edge for each possible pair.\n",
    "    - G = nx.Graph()\n",
    "    - G.add_weighted_edges_from([(control_person, treated_person, similarity)])\n",
    "Optimal matching is then found with:\n",
    "    - matching = nx.max_weight_matching(G)\n",
    "\n",
    "After matching, you have as many treated as you have control subjects.\n",
    "Compare the outcomes (`re78`) between the two groups (treated and control).\n",
    "\n",
    "Also, compare again the feature-value distributions between the two groups, as you've done in part 2 above, but now only for the matched subjects.\n",
    "What do you observe?\n",
    "Are you closer to being able to draw valid conclusions now than you were before?"
   ]
  },
  {
   "cell_type": "code",
   "execution_count": 31,
   "metadata": {},
   "outputs": [
    {
     "name": "stdout",
     "output_type": "stream",
     "text": [
      "matching\n"
     ]
    }
   ],
   "source": [
    "''' your code and explanations ''';\n",
    "\n",
    "df['pro_score'] = propensity_scores\n",
    "\n",
    "G = nx.Graph()\n",
    "G.add_nodes_from(df.id)\n",
    "\n",
    "control = df[df.treat == 0]\n",
    "treated = df[df.treat == 1]\n",
    "\n",
    "edges = []\n",
    "for id_treated, prop_score_treated in zip(treated.id, treated.pro_score): \n",
    "    for id_control, prop_score_control in zip(control.id, control.pro_score): \n",
    "        edges.append((id_treated, id_control,1/(np.abs(prop_score_treated - prop_score_control) + 1e-15))) \n",
    "\n",
    "\n",
    "G.add_weighted_edges_from(edges)\n",
    "\n",
    "print('matching starting')\n",
    "\n",
    "matching = nx.max_weight_matching(G) "
   ]
  },
  {
   "cell_type": "code",
   "execution_count": 167,
   "metadata": {},
   "outputs": [
    {
     "data": {
      "text/plain": [
       "(185, 185)"
      ]
     },
     "execution_count": 167,
     "metadata": {},
     "output_type": "execute_result"
    }
   ],
   "source": [
    "matched_control = []\n",
    "matched_treated = []\n",
    "\n",
    "for node_a, node_b in matching: \n",
    "    if 'PS' in node_a and 'NSW' in node_b: \n",
    "        matched_control.append(node_a)\n",
    "        matched_treated.append(node_b)\n",
    "    elif 'NSW' in node_a and 'PS' in node_b: \n",
    "        matched_control.append(node_b)\n",
    "        matched_treated.append(node_a)\n",
    "    else: \n",
    "        print('err')\n",
    " \n",
    "matched_control_df = control[control.id.isin(matched_control)]\n",
    "matched_treated_df = treated[treated.id.isin(matched_treated)]\n",
    "len(matched_treated_df), len(matched_control_df)"
   ]
  },
  {
   "cell_type": "code",
   "execution_count": 168,
   "metadata": {},
   "outputs": [
    {
     "data": {
      "image/png": "[encoded data removed]",
      "text/plain": [
       "<Figure size 432x288 with 1 Axes>"
      ]
     },
     "metadata": {
      "needs_background": "light"
     },
     "output_type": "display_data"
    },
    {
     "data": {
      "image/png": "[encoded data removed]",
      "text/plain": [
       "<Figure size 432x288 with 1 Axes>"
      ]
     },
     "metadata": {
      "needs_background": "light"
     },
     "output_type": "display_data"
    }
   ],
   "source": [
    "df['white'] = ((df['black'] == 0) & (df['hispan'] == 0)).astype(int)\n",
    "\n",
    "grouped = df.groupby('treat')[['white', 'black', 'hispan']].mean()\n",
    "grouped = grouped.reset_index().melt(id_vars='treat', value_vars=['white', 'black', 'hispan'], var_name='race')\n",
    "\n",
    "sns.barplot(data =grouped, x ='race', y='value', hue= 'treat')\n",
    "plt.title('distribution of race on raw data')\n",
    "plt.show()\n",
    "\n",
    "\n",
    "combined = matched_control_df.append(matched_treated_df, ignore_index=True)\n",
    "combined['white'] = ((combined['black'] == 0) & (combined['hispan'] == 0)).astype(int)\n",
    "\n",
    "grouped = combined.groupby('treat')[['white', 'black', 'hispan']].mean()\n",
    "grouped = grouped.reset_index().melt(id_vars='treat', value_vars=['white', 'black', 'hispan'], var_name='race')\n",
    "\n",
    "sns.barplot(data =grouped, x ='race', y='value', hue= 'treat')\n",
    "plt.title('distribution of race on balanced data')\n",
    "\n",
    "plt.show()"
   ]
  },
  {
   "cell_type": "code",
   "execution_count": 169,
   "metadata": {},
   "outputs": [
    {
     "data": {
      "image/png": "[encoded data removed]",
      "text/plain": [
       "<Figure size 432x288 with 1 Axes>"
      ]
     },
     "metadata": {
      "needs_background": "light"
     },
     "output_type": "display_data"
    },
    {
     "data": {
      "image/png": "[encoded data removed]",
      "text/plain": [
       "<Figure size 432x288 with 1 Axes>"
      ]
     },
     "metadata": {
      "needs_background": "light"
     },
     "output_type": "display_data"
    }
   ],
   "source": [
    "labels=['control', 'treated']\n",
    "\n",
    "ax = sns.boxplot(x='treat', y='value', data = df.melt(id_vars='treat', value_vars= 'age'))\n",
    "ax.set_xticklabels(labels)\n",
    "plt.show()\n",
    "\n",
    "ax = sns.boxplot(x='treat', y='value', data = combined.melt(id_vars='treat', value_vars= 'age') )\n",
    "ax.set_xticklabels(labels)\n",
    "plt.title('boxplot of age on balanced')\n",
    "plt.show()"
   ]
  },
  {
   "cell_type": "code",
   "execution_count": 170,
   "metadata": {},
   "outputs": [
    {
     "data": {
      "image/png": "[encoded data removed]",
      "text/plain": [
       "<Figure size 432x288 with 1 Axes>"
      ]
     },
     "metadata": {
      "needs_background": "light"
     },
     "output_type": "display_data"
    },
    {
     "data": {
      "text/plain": [
       "<AxesSubplot:xlabel='treat', ylabel='value'>"
      ]
     },
     "execution_count": 170,
     "metadata": {},
     "output_type": "execute_result"
    },
    {
     "data": {
      "image/png": "[encoded data removed]",
      "text/plain": [
       "<Figure size 432x288 with 1 Axes>"
      ]
     },
     "metadata": {
      "needs_background": "light"
     },
     "output_type": "display_data"
    }
   ],
   "source": [
    "sns.barplot(x='treat', y='value', data = df.melt(id_vars='treat', value_vars= 'married'))\n",
    "plt.show()\n",
    "sns.barplot(x='treat', y='value', data = combined.melt(id_vars='treat', value_vars= 'married'))"
   ]
  },
  {
   "cell_type": "code",
   "execution_count": 171,
   "metadata": {},
   "outputs": [
    {
     "data": {
      "text/plain": [
       "<AxesSubplot:xlabel='race', ylabel='value'>"
      ]
     },
     "execution_count": 171,
     "metadata": {},
     "output_type": "execute_result"
    },
    {
     "data": {
      "image/png": "[encoded data removed]",
      "text/plain": [
       "<Figure size 432x288 with 1 Axes>"
      ]
     },
     "metadata": {
      "needs_background": "light"
     },
     "output_type": "display_data"
    }
   ],
   "source": [
    "grouped = combined.groupby('treat')[['re74', 're75', 're78']].mean()\n",
    "grouped = grouped.reset_index().melt(id_vars='treat', value_vars=['re74', 're75', 're78'], var_name='race')\n",
    "\n",
    "\n",
    "sns.barplot(data =grouped, x ='race', y='value', hue= 'treat')"
   ]
  },
  {
   "cell_type": "markdown",
   "metadata": {},
   "source": [
    "The distributio is closer, the only problematic one is race. I still wouldn't be super sure about drawing conclusion from the data"
   ]
  },
  {
   "cell_type": "markdown",
   "metadata": {},
   "source": [
    "## 5. Balancing the groups further\n",
    "\n",
    "Based on your comparison of feature-value distributions from part 4, are you fully satisfied with your matching?\n",
    "Would you say your dataset is sufficiently balanced?\n",
    "If not, in what ways could the \"balanced\" dataset you have obtained still not allow you to draw valid conclusions?\n",
    "\n",
    "Improve your matching by explicitly making sure that you match only subjects that have the same value for the problematic feature.\n",
    "Argue with numbers and plots that the two groups (treated and control) are now better balanced than after part 4.\n"
   ]
  },
  {
   "cell_type": "code",
   "execution_count": 172,
   "metadata": {},
   "outputs": [],
   "source": [
    "''' your code and explanations '''\n",
    "# main imbalance problem is in race\n",
    "\n",
    "new_matched_control = []\n",
    "new_matched_treated = []\n",
    "\n",
    "\n",
    "for control_id, treated_id in zip(matched_control, matched_treated): \n",
    "    control_sample = df.loc[df.id == control_id][['black', 'hispan']].reset_index(drop= True)\n",
    "    treat_sample = df.loc[df.id == treated_id][['black', 'hispan']].reset_index(drop=True)\n",
    "    if (control_sample.values[0] == treat_sample.values[0]).all():\n",
    "        # print(control, treated)\n",
    "        # if control_sample.values[0] == [0, 0]: \n",
    "        \n",
    "        new_matched_control.append(control_id)\n",
    "        new_matched_treated.append(treated_id)\n",
    "\n",
    "matched_control_df = control[control.id.isin(new_matched_control)]\n",
    "matched_treated_df = treated[treated.id.isin(new_matched_treated)]"
   ]
  },
  {
   "cell_type": "code",
   "execution_count": 173,
   "metadata": {},
   "outputs": [
    {
     "data": {
      "image/png": "[encoded data removed]",
      "text/plain": [
       "<Figure size 432x288 with 1 Axes>"
      ]
     },
     "metadata": {
      "needs_background": "light"
     },
     "output_type": "display_data"
    }
   ],
   "source": [
    "\n",
    "combined = matched_control_df.append(matched_treated_df, ignore_index=True)\n",
    "combined['white'] = ((combined['black'] == 0) & (combined['hispan'] == 0)).astype(int)\n",
    "\n",
    "grouped = combined.groupby('treat')[['white', 'black', 'hispan']].mean()\n",
    "grouped = grouped.reset_index().melt(id_vars='treat', value_vars=['white', 'black', 'hispan'], var_name='race')\n",
    "\n",
    "sns.barplot(data =grouped, x ='race', y='value', hue= 'treat')\n",
    "plt.title('distribution of race on balanced data')\n",
    "\n",
    "plt.show()"
   ]
  },
  {
   "cell_type": "markdown",
   "metadata": {},
   "source": [
    "## 6. A less naive analysis\n",
    "\n",
    "Compare the outcomes (`re78`) between treated and control subjects, as you've done in part 1, but now only for the matched dataset you've obtained from part 5.\n",
    "What do you conclude about the effectiveness of the job training program?"
   ]
  },
  {
   "cell_type": "code",
   "execution_count": 176,
   "metadata": {
    "tags": []
   },
   "outputs": [
    {
     "data": {
      "text/plain": [
       "<AxesSubplot:xlabel='race', ylabel='value'>"
      ]
     },
     "execution_count": 176,
     "metadata": {},
     "output_type": "execute_result"
    },
    {
     "data": {
      "image/png": "[encoded data removed]",
      "text/plain": [
       "<Figure size 432x288 with 1 Axes>"
      ]
     },
     "metadata": {
      "needs_background": "light"
     },
     "output_type": "display_data"
    }
   ],
   "source": [
    "''' your code and explanations ''';\n",
    "\n",
    "grouped = combined.groupby('treat')[['re74', 're75', 're78']].mean()\n",
    "grouped = grouped.reset_index().melt(id_vars='treat', value_vars=['re74', 're75', 're78'], var_name='race')\n",
    "\n",
    "\n",
    "sns.barplot(data =grouped, x ='race', y='value', hue= 'treat')"
   ]
  },
  {
   "cell_type": "markdown",
   "metadata": {},
   "source": [
    "Adjusting for everything else the treatment is effective. Even if the reddit were lower in the two years in the other one they were highes"
   ]
  }
 ],
 "metadata": {
  "kernelspec": {
   "display_name": "Python 3 (ipykernel)",
   "language": "python",
   "name": "python3"
  },
  "language_info": {
   "codemirror_mode": {
    "name": "ipython",
    "version": 3
   },
   "file_extension": ".py",
   "mimetype": "text/x-python",
   "name": "python",
   "nbconvert_exporter": "python",
   "pygments_lexer": "ipython3",
   "version": "3.10.12"
  },
  "varInspector": {
   "cols": {
    "lenName": 16,
    "lenType": 16,
    "lenVar": 40
   },
   "kernels_config": {
    "python": {
     "delete_cmd_postfix": "",
     "delete_cmd_prefix": "del ",
     "library": "var_list.py",
     "varRefreshCmd": "print(var_dic_list())"
    },
    "r": {
     "delete_cmd_postfix": ") ",
     "delete_cmd_prefix": "rm(",
     "library": "var_list.r",
     "varRefreshCmd": "cat(var_dic_list()) "
    }
   },
   "types_to_exclude": [
    "module",
    "function",
    "builtin_function_or_method",
    "instance",
    "_Feature"
   ],
   "window_display": false
  }
 },
 "nbformat": 4,
 "nbformat_minor": 4
}
