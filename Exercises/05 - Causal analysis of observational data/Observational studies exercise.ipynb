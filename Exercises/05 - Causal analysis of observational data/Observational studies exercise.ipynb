{
 "cells": [
  {
   "cell_type": "markdown",
   "metadata": {},
   "source": [
    "### Welcome to the exercise about observational studies! This exercise will be hands on, and you will be able to practise the skills you developed so far!"
   ]
  },
  {
   "cell_type": "markdown",
   "metadata": {},
   "source": [
    "## Propensity score matching\n",
    "\n",
    "In this exercise, you will apply [propensity score matching](http://www.stewartschultz.com/statistics/books/Design%20of%20observational%20studies.pdf), which we discussed in lecture 6 (\"Observational studies\"), in order to draw conclusions from an observational study.\n",
    "\n",
    "We will work with a by-now classic dataset from Robert LaLonde's study \"[Evaluating the Econometric Evaluations of Training Programs](http://people.hbs.edu/nashraf/LaLonde_1986.pdf)\" (1986).\n",
    "The study investigated the effect of a job training program (\"National Supported Work Demonstration\") on the real earnings of an individual, a couple of years after completion of the program.\n",
    "Your task is to determine the effectiveness of the \"treatment\" represented by the job training program."
   ]
  },
  {
   "cell_type": "markdown",
   "metadata": {},
   "source": [
    "#### Dataset description\n",
    "\n",
    "- `treat`: 1 if the subject participated in the job training program, 0 otherwise\n",
    "- `age`: the subject's age\n",
    "- `educ`: years of education\n",
    "- `race`: categorical variable with three possible values: Black, Hispanic, or White\n",
    "- `married`: 1 if the subject was married at the time of the training program, 0 otherwise\n",
    "- `nodegree`: 1 if the subject has earned no school degree, 0 otherwise\n",
    "- `re74`: real earnings in 1974 (pre-treatment)\n",
    "- `re75`: real earnings in 1975 (pre-treatment)\n",
    "- `re78`: real earnings in 1978 (outcome)"
   ]
  },
  {
   "cell_type": "markdown",
   "metadata": {},
   "source": [
    "If you want to deepen your knowledge on propensity scores and observational studies, we highly recommend Rosenbaum's excellent book on the [\"Design of Observational Studies\"](http://www.stewartschultz.com/statistics/books/Design%20of%20observational%20studies.pdf). Even just reading the first chapter (18 pages) will help you a lot."
   ]
  },
  {
   "cell_type": "code",
   "execution_count": 90,
   "metadata": {
    "tags": []
   },
   "outputs": [],
   "source": [
    "import pandas as pd\n",
    "import pandas as pd\n",
    "import numpy as np\n",
    "import matplotlib.pyplot as plt\n",
    "import seaborn as sns\n",
    "import networkx as nx\n",
    "%matplotlib inline\n",
    "\n",
    "data_folder = './data/'\n",
    "df = pd.read_csv(data_folder + 'lalonde.csv')"
   ]
  },
  {
   "cell_type": "code",
   "execution_count": 3,
   "metadata": {},
   "outputs": [
    {
     "data": {
      "text/html": [
       "<div>\n",
       "<style scoped>\n",
       "    .dataframe tbody tr th:only-of-type {\n",
       "        vertical-align: middle;\n",
       "    }\n",
       "\n",
       "    .dataframe tbody tr th {\n",
       "        vertical-align: top;\n",
       "    }\n",
       "\n",
       "    .dataframe thead th {\n",
       "        text-align: right;\n",
       "    }\n",
       "</style>\n",
       "<table border=\"1\" class=\"dataframe\">\n",
       "  <thead>\n",
       "    <tr style=\"text-align: right;\">\n",
       "      <th></th>\n",
       "      <th>id</th>\n",
       "      <th>treat</th>\n",
       "      <th>age</th>\n",
       "      <th>educ</th>\n",
       "      <th>black</th>\n",
       "      <th>hispan</th>\n",
       "      <th>married</th>\n",
       "      <th>nodegree</th>\n",
       "      <th>re74</th>\n",
       "      <th>re75</th>\n",
       "      <th>re78</th>\n",
       "    </tr>\n",
       "  </thead>\n",
       "  <tbody>\n",
       "    <tr>\n",
       "      <th>314</th>\n",
       "      <td>PSID130</td>\n",
       "      <td>0</td>\n",
       "      <td>50</td>\n",
       "      <td>12</td>\n",
       "      <td>0</td>\n",
       "      <td>0</td>\n",
       "      <td>1</td>\n",
       "      <td>0</td>\n",
       "      <td>19929.6600</td>\n",
       "      <td>3190.3550</td>\n",
       "      <td>18597.190</td>\n",
       "    </tr>\n",
       "    <tr>\n",
       "      <th>532</th>\n",
       "      <td>PSID348</td>\n",
       "      <td>0</td>\n",
       "      <td>19</td>\n",
       "      <td>12</td>\n",
       "      <td>0</td>\n",
       "      <td>1</td>\n",
       "      <td>0</td>\n",
       "      <td>0</td>\n",
       "      <td>1058.0040</td>\n",
       "      <td>0.0000</td>\n",
       "      <td>8923.991</td>\n",
       "    </tr>\n",
       "    <tr>\n",
       "      <th>598</th>\n",
       "      <td>PSID414</td>\n",
       "      <td>0</td>\n",
       "      <td>17</td>\n",
       "      <td>6</td>\n",
       "      <td>0</td>\n",
       "      <td>0</td>\n",
       "      <td>0</td>\n",
       "      <td>1</td>\n",
       "      <td>0.0000</td>\n",
       "      <td>0.0000</td>\n",
       "      <td>0.000</td>\n",
       "    </tr>\n",
       "    <tr>\n",
       "      <th>260</th>\n",
       "      <td>PSID76</td>\n",
       "      <td>0</td>\n",
       "      <td>26</td>\n",
       "      <td>12</td>\n",
       "      <td>0</td>\n",
       "      <td>1</td>\n",
       "      <td>0</td>\n",
       "      <td>0</td>\n",
       "      <td>7968.3380</td>\n",
       "      <td>5109.5810</td>\n",
       "      <td>4181.966</td>\n",
       "    </tr>\n",
       "    <tr>\n",
       "      <th>527</th>\n",
       "      <td>PSID343</td>\n",
       "      <td>0</td>\n",
       "      <td>36</td>\n",
       "      <td>11</td>\n",
       "      <td>0</td>\n",
       "      <td>0</td>\n",
       "      <td>1</td>\n",
       "      <td>1</td>\n",
       "      <td>1404.7940</td>\n",
       "      <td>0.0000</td>\n",
       "      <td>0.000</td>\n",
       "    </tr>\n",
       "    <tr>\n",
       "      <th>100</th>\n",
       "      <td>NSW101</td>\n",
       "      <td>1</td>\n",
       "      <td>24</td>\n",
       "      <td>10</td>\n",
       "      <td>1</td>\n",
       "      <td>0</td>\n",
       "      <td>0</td>\n",
       "      <td>1</td>\n",
       "      <td>0.0000</td>\n",
       "      <td>0.0000</td>\n",
       "      <td>0.000</td>\n",
       "    </tr>\n",
       "    <tr>\n",
       "      <th>393</th>\n",
       "      <td>PSID209</td>\n",
       "      <td>0</td>\n",
       "      <td>16</td>\n",
       "      <td>10</td>\n",
       "      <td>0</td>\n",
       "      <td>0</td>\n",
       "      <td>0</td>\n",
       "      <td>1</td>\n",
       "      <td>574.0652</td>\n",
       "      <td>1181.6130</td>\n",
       "      <td>5578.418</td>\n",
       "    </tr>\n",
       "    <tr>\n",
       "      <th>468</th>\n",
       "      <td>PSID284</td>\n",
       "      <td>0</td>\n",
       "      <td>29</td>\n",
       "      <td>12</td>\n",
       "      <td>0</td>\n",
       "      <td>0</td>\n",
       "      <td>1</td>\n",
       "      <td>0</td>\n",
       "      <td>14641.6000</td>\n",
       "      <td>162.9194</td>\n",
       "      <td>9473.705</td>\n",
       "    </tr>\n",
       "    <tr>\n",
       "      <th>513</th>\n",
       "      <td>PSID329</td>\n",
       "      <td>0</td>\n",
       "      <td>21</td>\n",
       "      <td>15</td>\n",
       "      <td>0</td>\n",
       "      <td>0</td>\n",
       "      <td>0</td>\n",
       "      <td>0</td>\n",
       "      <td>2629.3360</td>\n",
       "      <td>0.0000</td>\n",
       "      <td>1717.118</td>\n",
       "    </tr>\n",
       "    <tr>\n",
       "      <th>587</th>\n",
       "      <td>PSID403</td>\n",
       "      <td>0</td>\n",
       "      <td>48</td>\n",
       "      <td>12</td>\n",
       "      <td>0</td>\n",
       "      <td>0</td>\n",
       "      <td>1</td>\n",
       "      <td>0</td>\n",
       "      <td>0.0000</td>\n",
       "      <td>0.0000</td>\n",
       "      <td>1491.026</td>\n",
       "    </tr>\n",
       "  </tbody>\n",
       "</table>\n",
       "</div>"
      ],
      "text/plain": [
       "          id  treat  age  educ  black  hispan  married  nodegree        re74  \\\n",
       "314  PSID130      0   50    12      0       0        1         0  19929.6600   \n",
       "532  PSID348      0   19    12      0       1        0         0   1058.0040   \n",
       "598  PSID414      0   17     6      0       0        0         1      0.0000   \n",
       "260   PSID76      0   26    12      0       1        0         0   7968.3380   \n",
       "527  PSID343      0   36    11      0       0        1         1   1404.7940   \n",
       "100   NSW101      1   24    10      1       0        0         1      0.0000   \n",
       "393  PSID209      0   16    10      0       0        0         1    574.0652   \n",
       "468  PSID284      0   29    12      0       0        1         0  14641.6000   \n",
       "513  PSID329      0   21    15      0       0        0         0   2629.3360   \n",
       "587  PSID403      0   48    12      0       0        1         0      0.0000   \n",
       "\n",
       "          re75       re78  \n",
       "314  3190.3550  18597.190  \n",
       "532     0.0000   8923.991  \n",
       "598     0.0000      0.000  \n",
       "260  5109.5810   4181.966  \n",
       "527     0.0000      0.000  \n",
       "100     0.0000      0.000  \n",
       "393  1181.6130   5578.418  \n",
       "468   162.9194   9473.705  \n",
       "513     0.0000   1717.118  \n",
       "587     0.0000   1491.026  "
      ]
     },
     "execution_count": 3,
     "metadata": {},
     "output_type": "execute_result"
    }
   ],
   "source": [
    "df.sample(10)"
   ]
  },
  {
   "cell_type": "markdown",
   "metadata": {},
   "source": [
    "## 1. A naive analysis\n",
    "\n",
    "Compare the distribution of the outcome variable (`re78`) between the two groups, using plots and numbers.\n",
    "To summarize and compare the distributions, you may use the techniques we discussed in lecture 4 (\"Descibing data\") and 3 (\"Visualizing data\").\n",
    "\n",
    "What might a naive \"researcher\" conclude from this superficial analysis?"
   ]
  },
  {
   "cell_type": "code",
   "execution_count": 61,
   "metadata": {},
   "outputs": [
    {
     "data": {
      "image/png": "[encoded data removed]",
      "text/plain": [
       "<Figure size 432x288 with 1 Axes>"
      ]
     },
     "metadata": {
      "needs_background": "light"
     },
     "output_type": "display_data"
    },
    {
     "data": {
      "image/png": "[encoded data removed]",
      "text/plain": [
       "<Figure size 432x288 with 1 Axes>"
      ]
     },
     "metadata": {
      "needs_background": "light"
     },
     "output_type": "display_data"
    }
   ],
   "source": [
    "''' your code and explanations '''\n",
    "treated = df[df.treat == 1]\n",
    "control = df[df.treat == 0]\n",
    "\n",
    "plt.hist(treated.re78, bins=20)\n",
    "plt.title('treated')\n",
    "plt.show()\n",
    "plt.hist(control.re78, bins=20)\n",
    "plt.title('control')\n",
    "plt.show()"
   ]
  },
  {
   "cell_type": "code",
   "execution_count": 15,
   "metadata": {},
   "outputs": [
    {
     "name": "stdout",
     "output_type": "stream",
     "text": [
      "Treated\n",
      "count      185.000000\n",
      "mean      6349.143530\n",
      "std       7867.402218\n",
      "min          0.000000\n",
      "25%        485.229800\n",
      "50%       4232.309000\n",
      "75%       9642.999000\n",
      "max      60307.930000\n",
      "Name: re78, dtype: float64\n",
      "\n",
      "\n",
      "Control\n",
      "count      429.000000\n",
      "mean      6984.169742\n",
      "std       7294.161791\n",
      "min          0.000000\n",
      "25%        220.181300\n",
      "50%       4975.505000\n",
      "75%      11688.820000\n",
      "max      25564.670000\n",
      "Name: re78, dtype: float64\n"
     ]
    }
   ],
   "source": [
    "print('Treated')\n",
    "print(treated.re78.describe())\n",
    "\n",
    "print('\\n\\nControl')\n",
    "print(control.re78.describe())"
   ]
  },
  {
   "cell_type": "markdown",
   "metadata": {},
   "source": [
    "A naive researcher might conclude that the treated group has a lower salary of the control one, thus the treatment lowers the salary instead of increasing it. But we haven't in any way checked that the individuals in the treated and control groups are similar. Moreover the difference in salary might be caused by the the difference in the characteristic of the people (e.g. salary in previous years, education ecc.)  more than the treatment itself. "
   ]
  },
  {
   "cell_type": "markdown",
   "metadata": {},
   "source": [
    "## 2. A closer look at the data\n",
    "\n",
    "You're not naive, of course (and even if you are, you've learned certain things in ADA), so you aren't content with a superficial analysis such as the above.\n",
    "You're aware of the dangers of observational studies, so you take a closer look at the data before jumping to conclusions.\n",
    "\n",
    "For each feature in the dataset, compare its distribution in the treated group with its distribution in the control group, using plots and numbers.\n",
    "As above, you may use the techniques we discussed in class for summarizing and comparing the distributions.\n",
    "\n",
    "What do you observe?\n",
    "Describe what your observations mean for the conclusions drawn by the naive \"researcher\" from his superficial analysis."
   ]
  },
  {
   "cell_type": "code",
   "execution_count": 22,
   "metadata": {},
   "outputs": [
    {
     "name": "stdout",
     "output_type": "stream",
     "text": [
      "control\n",
      "       treat         age        educ       black      hispan     married  \\\n",
      "count  429.0  429.000000  429.000000  429.000000  429.000000  429.000000   \n",
      "mean     0.0   28.030303   10.235431    0.202797    0.142191    0.512821   \n",
      "std      0.0   10.786653    2.855238    0.402552    0.349654    0.500419   \n",
      "min      0.0   16.000000    0.000000    0.000000    0.000000    0.000000   \n",
      "25%      0.0   19.000000    9.000000    0.000000    0.000000    0.000000   \n",
      "50%      0.0   25.000000   11.000000    0.000000    0.000000    1.000000   \n",
      "75%      0.0   35.000000   12.000000    0.000000    0.000000    1.000000   \n",
      "max      0.0   55.000000   18.000000    1.000000    1.000000    1.000000   \n",
      "\n",
      "         nodegree          re74          re75          re78  \n",
      "count  429.000000    429.000000    429.000000    429.000000  \n",
      "mean     0.596737   5619.236506   2466.484443   6984.169742  \n",
      "std      0.491126   6788.750796   3291.996183   7294.161791  \n",
      "min      0.000000      0.000000      0.000000      0.000000  \n",
      "25%      0.000000      0.000000      0.000000    220.181300  \n",
      "50%      1.000000   2547.047000   1086.726000   4975.505000  \n",
      "75%      1.000000   9277.128000   3881.419000  11688.820000  \n",
      "max      1.000000  25862.320000  18347.230000  25564.670000  \n",
      "\n",
      "\n",
      "treated\n",
      "       treat         age        educ       black      hispan     married  \\\n",
      "count  185.0  185.000000  185.000000  185.000000  185.000000  185.000000   \n",
      "mean     1.0   25.816216   10.345946    0.843243    0.059459    0.189189   \n",
      "std      0.0    7.155019    2.010650    0.364558    0.237124    0.392722   \n",
      "min      1.0   17.000000    4.000000    0.000000    0.000000    0.000000   \n",
      "25%      1.0   20.000000    9.000000    1.000000    0.000000    0.000000   \n",
      "50%      1.0   25.000000   11.000000    1.000000    0.000000    0.000000   \n",
      "75%      1.0   29.000000   12.000000    1.000000    0.000000    0.000000   \n",
      "max      1.0   48.000000   16.000000    1.000000    1.000000    1.000000   \n",
      "\n",
      "         nodegree          re74          re75          re78  \n",
      "count  185.000000    185.000000    185.000000    185.000000  \n",
      "mean     0.708108   2095.573689   1532.055314   6349.143530  \n",
      "std      0.455867   4886.620353   3219.250870   7867.402218  \n",
      "min      0.000000      0.000000      0.000000      0.000000  \n",
      "25%      0.000000      0.000000      0.000000    485.229800  \n",
      "50%      1.000000      0.000000      0.000000   4232.309000  \n",
      "75%      1.000000   1291.468000   1817.284000   9642.999000  \n",
      "max      1.000000  35040.070000  25142.240000  60307.930000  \n"
     ]
    }
   ],
   "source": [
    "print('control')\n",
    "print(control.describe())\n",
    "\n",
    "print('\\n\\ntreated')\n",
    "print(treated.describe())"
   ]
  },
  {
   "cell_type": "code",
   "execution_count": 122,
   "metadata": {},
   "outputs": [
    {
     "data": {
      "text/plain": [
       "<AxesSubplot:xlabel='race', ylabel='value'>"
      ]
     },
     "execution_count": 122,
     "metadata": {},
     "output_type": "execute_result"
    },
    {
     "data": {
      "image/png": "[encoded data removed]",
      "text/plain": [
       "<Figure size 432x288 with 1 Axes>"
      ]
     },
     "metadata": {
      "needs_background": "light"
     },
     "output_type": "display_data"
    }
   ],
   "source": [
    "# i did the plot of salary over time but it went lost.. \n",
    "df['white'] = ((df['black'] == 0) & (df['hispan'] == 0)).astype(int)\n",
    "\n",
    "\n",
    "grouped = df.groupby('treat')[['white', 'black', 'hispan']].mean()\n",
    "grouped = grouped.reset_index().melt(id_vars='treat', value_vars=['white', 'black', 'hispan'], var_name='race')\n",
    "\n",
    "\n",
    "sns.barplot(data =grouped, x ='race', y='value', hue= 'treat')\n"
   ]
  },
  {
   "cell_type": "code",
   "execution_count": 124,
   "metadata": {},
   "outputs": [
    {
     "data": {
      "text/plain": [
       "<AxesSubplot:xlabel='race', ylabel='value'>"
      ]
     },
     "execution_count": 124,
     "metadata": {},
     "output_type": "execute_result"
    },
    {
     "data": {
      "image/png": "[encoded data removed]",
      "text/plain": [
       "<Figure size 432x288 with 1 Axes>"
      ]
     },
     "metadata": {
      "needs_background": "light"
     },
     "output_type": "display_data"
    }
   ],
   "source": [
    "grouped = df.groupby('treat')[['re74', 're75', 're78']].mean()\n",
    "grouped = grouped.reset_index().melt(id_vars='treat', value_vars=['re74', 're75', 're78'], var_name='race')\n",
    "\n",
    "\n",
    "sns.barplot(data =grouped, x ='race', y='value', hue= 'treat')"
   ]
  },
  {
   "cell_type": "markdown",
   "metadata": {},
   "source": [
    "## 3. A propensity score model\n",
    "\n",
    "Use logistic regression to estimate propensity scores for all points in the dataset.\n",
    "You may use `statsmodels` to fit the logistic regression model and apply it to each data point to obtain propensity scores.\n",
    "\n",
    "Recall that the propensity score of a data point represents its probability of receiving the treatment, based on its pre-treatment features (in this case, age, education, pre-treatment income, etc.).\n",
    "To brush up on propensity scores, you may read chapter 3.3 of the above-cited book by Rosenbaum or [this article](https://www.ncbi.nlm.nih.gov/pmc/articles/PMC3144483/pdf/hmbr46-399.pdf).\n",
    "\n",
    "Note: you do not need a train/test split here. Train and apply the model on the entire dataset. If you're wondering why this is the right thing to do in this situation, recall that the propensity score model is not used in order to make predictions about unseen data. Its sole purpose is to balance the dataset across treatment groups.\n",
    "(See p. 74 of Rosenbaum's book for an explanation why slight overfitting is even good for propensity scores.\n",
    "If you want even more information, read [this article](https://www.ncbi.nlm.nih.gov/pmc/articles/PMC3144483/pdf/hmbr46-399.pdf).)"
   ]
  },
  {
   "cell_type": "code",
   "execution_count": 170,
   "metadata": {},
   "outputs": [
    {
     "name": "stdout",
     "output_type": "stream",
     "text": [
      "Optimization terminated successfully.\n",
      "         Current function value: 0.414061\n",
      "         Iterations 7\n",
      "                           Logit Regression Results                           \n",
      "==============================================================================\n",
      "Dep. Variable:                      y   No. Observations:                  614\n",
      "Model:                          Logit   Df Residuals:                      605\n",
      "Method:                           MLE   Df Model:                            8\n",
      "Date:                Sun, 29 Oct 2023   Pseudo R-squ.:                  0.3234\n",
      "Time:                        21:30:15   Log-Likelihood:                -254.23\n",
      "converged:                       True   LL-Null:                       -375.75\n",
      "Covariance Type:            nonrobust   LLR p-value:                 5.179e-48\n",
      "==============================================================================\n",
      "                 coef    std err          z      P>|z|      [0.025      0.975]\n",
      "------------------------------------------------------------------------------\n",
      "age           -0.0176      0.012     -1.497      0.134      -0.041       0.005\n",
      "educ          -0.1259      0.028     -4.455      0.000      -0.181      -0.071\n",
      "black          2.8345      0.266     10.654      0.000       2.313       3.356\n",
      "hispan         0.4531      0.399      1.136      0.256      -0.329       1.235\n",
      "married       -0.8518      0.284     -3.000      0.003      -1.408      -0.295\n",
      "nodegree      -0.4591      0.228     -2.010      0.044      -0.907      -0.011\n",
      "re74       -7.061e-05   2.86e-05     -2.471      0.013      -0.000   -1.46e-05\n",
      "re75        4.369e-05    4.5e-05      0.970      0.332   -4.46e-05       0.000\n",
      "re78        2.606e-05   1.69e-05      1.545      0.122      -7e-06    5.91e-05\n",
      "==============================================================================\n"
     ]
    }
   ],
   "source": [
    "''' your code and explanations '''\n",
    "\n",
    "import statsmodels.api as sm\n",
    "\n",
    "\n",
    "x = df.drop(['treat', 'id', 'white'], axis=1)\n",
    "\n",
    "logistic = sm.Logit(df['treat'].values, x).fit()\n",
    "print(logistic.summary())\n",
    "\n",
    "propensity_scores = logistic.predict(x)"
   ]
  },
  {
   "cell_type": "markdown",
   "metadata": {},
   "source": [
    "## 4. Balancing the dataset via matching\n",
    "\n",
    "Use the propensity scores to match each data point from the treated group with exactly one data point from the control group, while ensuring that each data point from the control group is matched with at most one data point from the treated group.\n",
    "(Hint: you may explore the `networkx` package in Python for predefined matching functions.)\n",
    "\n",
    "Your matching should maximize the similarity between matched subjects, as captured by their propensity scores.\n",
    "In other words, the sum (over all matched pairs) of absolute propensity-score differences between the two matched subjects should be minimized.\n",
    "\n",
    "This is how networkx library can help you do this. Each possible pair of (treated_person, control_person) is characterized by a similarity. This is how we can initialize a graph, and add an edge for one possible pair. We then need to add an edge for each possible pair.\n",
    "    - G = nx.Graph()\n",
    "    - G.add_weighted_edges_from([(control_person, treated_person, similarity)])\n",
    "Optimal matching is then found with:\n",
    "    - matching = nx.max_weight_matching(G)\n",
    "\n",
    "After matching, you have as many treated as you have control subjects.\n",
    "Compare the outcomes (`re78`) between the two groups (treated and control).\n",
    "\n",
    "Also, compare again the feature-value distributions between the two groups, as you've done in part 2 above, but now only for the matched subjects.\n",
    "What do you observe?\n",
    "Are you closer to being able to draw valid conclusions now than you were before?"
   ]
  },
  {
   "cell_type": "code",
   "execution_count": 202,
   "metadata": {},
   "outputs": [
    {
     "name": "stdout",
     "output_type": "stream",
     "text": [
      "matching\n"
     ]
    }
   ],
   "source": [
    "''' your code and explanations ''';\n",
    "\n",
    "df['pro_score'] = propensity_scores\n",
    "\n",
    "G = nx.Graph()\n",
    "G.add_nodes_from(df.id)\n",
    "\n",
    "control = df[df.treat == 0]\n",
    "treated = df[df.treat == 1]\n",
    "\n",
    "edges = []\n",
    "for id_treated, prop_score_treated in zip(treated.id, treated.pro_score): \n",
    "    for id_control, prop_score_control in zip(control.id, control.pro_score): \n",
    "        edges.append((id_treated, id_control, np.abs(prop_score_treated - prop_score_control)))\n",
    "\n",
    "G.add_weighted_edges_from(edges)\n",
    "\n",
    "print('matching')\n",
    "\n",
    "matching = nx.max_weight_matching(G) "
   ]
  },
  {
   "cell_type": "code",
   "execution_count": 203,
   "metadata": {},
   "outputs": [
    {
     "data": {
      "text/plain": [
       "{('NSW1', 'PSID222'),\n",
       " ('NSW10', 'PSID373'),\n",
       " ('NSW101', 'PSID92'),\n",
       " ('NSW103', 'PSID360'),\n",
       " ('NSW108', 'PSID85'),\n",
       " ('NSW109', 'PSID244'),\n",
       " ('NSW110', 'PSID3'),\n",
       " ('NSW115', 'PSID34'),\n",
       " ('NSW116', 'PSID419'),\n",
       " ('NSW119', 'PSID301'),\n",
       " ('NSW120', 'PSID113'),\n",
       " ('NSW125', 'PSID291'),\n",
       " ('NSW126', 'PSID349'),\n",
       " ('NSW127', 'PSID320'),\n",
       " ('NSW129', 'PSID228'),\n",
       " ('NSW130', 'PSID121'),\n",
       " ('NSW134', 'PSID23'),\n",
       " ('NSW136', 'PSID257'),\n",
       " ('NSW137', 'PSID333'),\n",
       " ('NSW138', 'PSID307'),\n",
       " ('NSW14', 'PSID174'),\n",
       " ('NSW140', 'PSID398'),\n",
       " ('NSW144', 'PSID287'),\n",
       " ('NSW147', 'PSID78'),\n",
       " ('NSW149', 'PSID378'),\n",
       " ('NSW151', 'PSID30'),\n",
       " ('NSW153', 'PSID297'),\n",
       " ('NSW156', 'PSID33'),\n",
       " ('NSW157', 'PSID148'),\n",
       " ('NSW158', 'PSID390'),\n",
       " ('NSW159', 'PSID273'),\n",
       " ('NSW160', 'PSID53'),\n",
       " ('NSW162', 'PSID312'),\n",
       " ('NSW163', 'PSID355'),\n",
       " ('NSW165', 'PSID344'),\n",
       " ('NSW169', 'PSID36'),\n",
       " ('NSW17', 'PSID25'),\n",
       " ('NSW170', 'PSID20'),\n",
       " ('NSW171', 'PSID43'),\n",
       " ('NSW175', 'PSID387'),\n",
       " ('NSW176', 'PSID119'),\n",
       " ('NSW177', 'PSID411'),\n",
       " ('NSW179', 'PSID256'),\n",
       " ('NSW18', 'PSID109'),\n",
       " ('NSW183', 'PSID310'),\n",
       " ('NSW184', 'PSID132'),\n",
       " ('NSW185', 'PSID143'),\n",
       " ('NSW19', 'PSID203'),\n",
       " ('NSW2', 'PSID173'),\n",
       " ('NSW23', 'PSID191'),\n",
       " ('NSW25', 'PSID169'),\n",
       " ('NSW26', 'PSID104'),\n",
       " ('NSW29', 'PSID130'),\n",
       " ('NSW3', 'PSID126'),\n",
       " ('NSW30', 'PSID324'),\n",
       " ('NSW31', 'PSID317'),\n",
       " ('NSW32', 'PSID319'),\n",
       " ('NSW33', 'PSID70'),\n",
       " ('NSW34', 'PSID75'),\n",
       " ('NSW35', 'PSID117'),\n",
       " ('NSW38', 'PSID21'),\n",
       " ('NSW40', 'PSID181'),\n",
       " ('NSW44', 'PSID268'),\n",
       " ('NSW48', 'PSID304'),\n",
       " ('NSW49', 'PSID298'),\n",
       " ('NSW50', 'PSID58'),\n",
       " ('NSW51', 'PSID9'),\n",
       " ('NSW52', 'PSID38'),\n",
       " ('NSW53', 'PSID83'),\n",
       " ('NSW55', 'PSID13'),\n",
       " ('NSW56', 'PSID14'),\n",
       " ('NSW57', 'PSID263'),\n",
       " ('NSW58', 'PSID115'),\n",
       " ('NSW6', 'PSID116'),\n",
       " ('NSW60', 'PSID386'),\n",
       " ('NSW61', 'PSID10'),\n",
       " ('NSW62', 'PSID55'),\n",
       " ('NSW65', 'PSID62'),\n",
       " ('NSW67', 'PSID81'),\n",
       " ('NSW72', 'PSID144'),\n",
       " ('NSW77', 'PSID328'),\n",
       " ('NSW79', 'PSID305'),\n",
       " ('NSW81', 'PSID201'),\n",
       " ('NSW82', 'PSID87'),\n",
       " ('NSW86', 'PSID359'),\n",
       " ('NSW88', 'PSID288'),\n",
       " ('NSW89', 'PSID376'),\n",
       " ('NSW92', 'PSID421'),\n",
       " ('NSW93', 'PSID129'),\n",
       " ('NSW94', 'PSID123'),\n",
       " ('NSW99', 'PSID18'),\n",
       " ('PSID1', 'NSW174'),\n",
       " ('PSID100', 'NSW168'),\n",
       " ('PSID107', 'NSW69'),\n",
       " ('PSID108', 'NSW41'),\n",
       " ('PSID110', 'NSW182'),\n",
       " ('PSID114', 'NSW20'),\n",
       " ('PSID118', 'NSW166'),\n",
       " ('PSID12', 'NSW16'),\n",
       " ('PSID120', 'NSW54'),\n",
       " ('PSID125', 'NSW107'),\n",
       " ('PSID128', 'NSW143'),\n",
       " ('PSID133', 'NSW117'),\n",
       " ('PSID140', 'NSW100'),\n",
       " ('PSID146', 'NSW74'),\n",
       " ('PSID147', 'NSW131'),\n",
       " ('PSID149', 'NSW13'),\n",
       " ('PSID157', 'NSW28'),\n",
       " ('PSID158', 'NSW42'),\n",
       " ('PSID163', 'NSW46'),\n",
       " ('PSID165', 'NSW141'),\n",
       " ('PSID167', 'NSW71'),\n",
       " ('PSID168', 'NSW104'),\n",
       " ('PSID175', 'NSW172'),\n",
       " ('PSID179', 'NSW83'),\n",
       " ('PSID189', 'NSW124'),\n",
       " ('PSID190', 'NSW106'),\n",
       " ('PSID194', 'NSW90'),\n",
       " ('PSID197', 'NSW70'),\n",
       " ('PSID2', 'NSW139'),\n",
       " ('PSID204', 'NSW43'),\n",
       " ('PSID214', 'NSW98'),\n",
       " ('PSID215', 'NSW7'),\n",
       " ('PSID218', 'NSW22'),\n",
       " ('PSID223', 'NSW59'),\n",
       " ('PSID232', 'NSW95'),\n",
       " ('PSID233', 'NSW75'),\n",
       " ('PSID234', 'NSW112'),\n",
       " ('PSID236', 'NSW63'),\n",
       " ('PSID246', 'NSW73'),\n",
       " ('PSID248', 'NSW11'),\n",
       " ('PSID250', 'NSW161'),\n",
       " ('PSID254', 'NSW80'),\n",
       " ('PSID255', 'NSW114'),\n",
       " ('PSID259', 'NSW4'),\n",
       " ('PSID266', 'NSW167'),\n",
       " ('PSID278', 'NSW145'),\n",
       " ('PSID284', 'NSW66'),\n",
       " ('PSID286', 'NSW155'),\n",
       " ('PSID29', 'NSW84'),\n",
       " ('PSID294', 'NSW146'),\n",
       " ('PSID296', 'NSW15'),\n",
       " ('PSID299', 'NSW12'),\n",
       " ('PSID302', 'NSW132'),\n",
       " ('PSID303', 'NSW118'),\n",
       " ('PSID309', 'NSW36'),\n",
       " ('PSID311', 'NSW47'),\n",
       " ('PSID318', 'NSW102'),\n",
       " ('PSID32', 'NSW142'),\n",
       " ('PSID321', 'NSW64'),\n",
       " ('PSID343', 'NSW113'),\n",
       " ('PSID352', 'NSW180'),\n",
       " ('PSID356', 'NSW173'),\n",
       " ('PSID363', 'NSW78'),\n",
       " ('PSID364', 'NSW27'),\n",
       " ('PSID37', 'NSW121'),\n",
       " ('PSID370', 'NSW87'),\n",
       " ('PSID372', 'NSW76'),\n",
       " ('PSID381', 'NSW68'),\n",
       " ('PSID382', 'NSW91'),\n",
       " ('PSID388', 'NSW96'),\n",
       " ('PSID39', 'NSW8'),\n",
       " ('PSID394', 'NSW178'),\n",
       " ('PSID396', 'NSW133'),\n",
       " ('PSID4', 'NSW135'),\n",
       " ('PSID403', 'NSW150'),\n",
       " ('PSID413', 'NSW111'),\n",
       " ('PSID415', 'NSW45'),\n",
       " ('PSID418', 'NSW154'),\n",
       " ('PSID44', 'NSW24'),\n",
       " ('PSID47', 'NSW148'),\n",
       " ('PSID49', 'NSW9'),\n",
       " ('PSID52', 'NSW97'),\n",
       " ('PSID54', 'NSW39'),\n",
       " ('PSID57', 'NSW164'),\n",
       " ('PSID60', 'NSW37'),\n",
       " ('PSID61', 'NSW128'),\n",
       " ('PSID64', 'NSW105'),\n",
       " ('PSID67', 'NSW5'),\n",
       " ('PSID68', 'NSW152'),\n",
       " ('PSID7', 'NSW85'),\n",
       " ('PSID71', 'NSW123'),\n",
       " ('PSID74', 'NSW122'),\n",
       " ('PSID8', 'NSW181'),\n",
       " ('PSID93', 'NSW21')}"
      ]
     },
     "execution_count": 203,
     "metadata": {},
     "output_type": "execute_result"
    }
   ],
   "source": [
    "matching"
   ]
  },
  {
   "cell_type": "markdown",
   "metadata": {},
   "source": [
    "## 5. Balancing the groups further\n",
    "\n",
    "Based on your comparison of feature-value distributions from part 4, are you fully satisfied with your matching?\n",
    "Would you say your dataset is sufficiently balanced?\n",
    "If not, in what ways could the \"balanced\" dataset you have obtained still not allow you to draw valid conclusions?\n",
    "\n",
    "Improve your matching by explicitly making sure that you match only subjects that have the same value for the problematic feature.\n",
    "Argue with numbers and plots that the two groups (treated and control) are now better balanced than after part 4.\n"
   ]
  },
  {
   "cell_type": "code",
   "execution_count": 8,
   "metadata": {},
   "outputs": [],
   "source": [
    "''' your code and explanations ''';"
   ]
  },
  {
   "cell_type": "markdown",
   "metadata": {},
   "source": [
    "## 6. A less naive analysis\n",
    "\n",
    "Compare the outcomes (`re78`) between treated and control subjects, as you've done in part 1, but now only for the matched dataset you've obtained from part 5.\n",
    "What do you conclude about the effectiveness of the job training program?"
   ]
  },
  {
   "cell_type": "code",
   "execution_count": 9,
   "metadata": {
    "tags": []
   },
   "outputs": [],
   "source": [
    "''' your code and explanations ''';"
   ]
  }
 ],
 "metadata": {
  "kernelspec": {
   "display_name": "Python 3 (ipykernel)",
   "language": "python",
   "name": "python3"
  },
  "language_info": {
   "codemirror_mode": {
    "name": "ipython",
    "version": 3
   },
   "file_extension": ".py",
   "mimetype": "text/x-python",
   "name": "python",
   "nbconvert_exporter": "python",
   "pygments_lexer": "ipython3",
   "version": "3.10.12"
  },
  "varInspector": {
   "cols": {
    "lenName": 16,
    "lenType": 16,
    "lenVar": 40
   },
   "kernels_config": {
    "python": {
     "delete_cmd_postfix": "",
     "delete_cmd_prefix": "del ",
     "library": "var_list.py",
     "varRefreshCmd": "print(var_dic_list())"
    },
    "r": {
     "delete_cmd_postfix": ") ",
     "delete_cmd_prefix": "rm(",
     "library": "var_list.r",
     "varRefreshCmd": "cat(var_dic_list()) "
    }
   },
   "types_to_exclude": [
    "module",
    "function",
    "builtin_function_or_method",
    "instance",
    "_Feature"
   ],
   "window_display": false
  }
 },
 "nbformat": 4,
 "nbformat_minor": 4
}
